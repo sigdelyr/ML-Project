{
 "cells": [
  {
   "cell_type": "code",
   "execution_count": 2,
   "metadata": {},
   "outputs": [
    {
     "ename": "ModuleNotFoundError",
     "evalue": "No module named 'edgar'",
     "output_type": "error",
     "traceback": [
      "\u001b[1;31m---------------------------------------------------------------------------\u001b[0m",
      "\u001b[1;31mModuleNotFoundError\u001b[0m                       Traceback (most recent call last)",
      "\u001b[1;32m<ipython-input-2-6d0552881e53>\u001b[0m in \u001b[0;36m<module>\u001b[1;34m\u001b[0m\n\u001b[1;32m----> 1\u001b[1;33m \u001b[1;32mfrom\u001b[0m \u001b[0medgar\u001b[0m\u001b[1;33m.\u001b[0m\u001b[0mstock\u001b[0m \u001b[1;32mimport\u001b[0m \u001b[0mStock\u001b[0m\u001b[1;33m\u001b[0m\u001b[1;33m\u001b[0m\u001b[0m\n\u001b[0m",
      "\u001b[1;31mModuleNotFoundError\u001b[0m: No module named 'edgar'"
     ]
    }
   ],
   "source": [
    "from edgar.stock import Stock"
   ]
  },
  {
   "cell_type": "code",
   "execution_count": null,
   "metadata": {},
   "outputs": [],
   "source": [
    "stock = Stock('AAPL')\n",
    "\n",
    "period = 'quarterly' # or 'annual', which is the default\n",
    "year = 2016 # can use default of 0 to get the latest\n",
    "quarter = 1 # 1, 2, 3, 4, or default value of 0 to get the latest\n",
    "# using defaults to get the latest annual, can simplify to stock.get_filing()\n",
    "filing = stock.get_filing(period, year, quarter)\n",
    "\n",
    "# financial reports (contain data for multiple years)\n",
    "income_statements = filing.get_income_statements()\n",
    "balance_sheets = filing.get_balance_sheets()\n",
    "cash_flows = filing.get_cash_flows()"
   ]
  }
 ],
 "metadata": {
  "kernelspec": {
   "display_name": "Python 3",
   "language": "python",
   "name": "python3"
  },
  "language_info": {
   "codemirror_mode": {
    "name": "ipython",
    "version": 3
   },
   "file_extension": ".py",
   "mimetype": "text/x-python",
   "name": "python",
   "nbconvert_exporter": "python",
   "pygments_lexer": "ipython3",
   "version": "3.7.3"
  }
 },
 "nbformat": 4,
 "nbformat_minor": 2
}
