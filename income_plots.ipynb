{
 "cells": [
  {
   "cell_type": "code",
   "execution_count": 1,
   "metadata": {},
   "outputs": [],
   "source": [
    " # Import Dependencies\n",
    "import matplotlib.pyplot as plt\n",
    "import pandas as pd\n",
    "import numpy as np\n",
    "from scipy import stats"
   ]
  },
  {
   "cell_type": "code",
   "execution_count": 2,
   "metadata": {},
   "outputs": [
    {
     "data": {
      "text/html": [
       "<div>\n",
       "<style scoped>\n",
       "    .dataframe tbody tr th:only-of-type {\n",
       "        vertical-align: middle;\n",
       "    }\n",
       "\n",
       "    .dataframe tbody tr th {\n",
       "        vertical-align: top;\n",
       "    }\n",
       "\n",
       "    .dataframe thead th {\n",
       "        text-align: right;\n",
       "    }\n",
       "</style>\n",
       "<table border=\"1\" class=\"dataframe\">\n",
       "  <thead>\n",
       "    <tr style=\"text-align: right;\">\n",
       "      <th></th>\n",
       "      <th>Date</th>\n",
       "      <th>Net Income</th>\n",
       "      <th>Net Sales</th>\n",
       "      <th>Operating Income</th>\n",
       "      <th>Profit</th>\n",
       "      <th>Year</th>\n",
       "      <th>Quarter</th>\n",
       "    </tr>\n",
       "  </thead>\n",
       "  <tbody>\n",
       "    <tr>\n",
       "      <th>0</th>\n",
       "      <td>2018-12-29</td>\n",
       "      <td>1.996500e+10</td>\n",
       "      <td>8.431000e+10</td>\n",
       "      <td>2.334600e+10</td>\n",
       "      <td>3.203100e+10</td>\n",
       "      <td>2018</td>\n",
       "      <td>4</td>\n",
       "    </tr>\n",
       "    <tr>\n",
       "      <th>1</th>\n",
       "      <td>2017-12-30</td>\n",
       "      <td>2.006500e+10</td>\n",
       "      <td>8.829300e+10</td>\n",
       "      <td>2.627400e+10</td>\n",
       "      <td>3.391200e+10</td>\n",
       "      <td>2017</td>\n",
       "      <td>4</td>\n",
       "    </tr>\n",
       "    <tr>\n",
       "      <th>2</th>\n",
       "      <td>2019-03-30</td>\n",
       "      <td>1.156100e+10</td>\n",
       "      <td>5.801500e+10</td>\n",
       "      <td>1.341500e+10</td>\n",
       "      <td>2.182100e+10</td>\n",
       "      <td>2019</td>\n",
       "      <td>1</td>\n",
       "    </tr>\n",
       "    <tr>\n",
       "      <th>3</th>\n",
       "      <td>2018-03-31</td>\n",
       "      <td>1.382200e+10</td>\n",
       "      <td>6.113700e+10</td>\n",
       "      <td>1.589400e+10</td>\n",
       "      <td>2.342200e+10</td>\n",
       "      <td>2018</td>\n",
       "      <td>1</td>\n",
       "    </tr>\n",
       "    <tr>\n",
       "      <th>4</th>\n",
       "      <td>2019-06-29</td>\n",
       "      <td>1.004400e+10</td>\n",
       "      <td>5.380900e+10</td>\n",
       "      <td>1.154400e+10</td>\n",
       "      <td>2.022700e+10</td>\n",
       "      <td>2019</td>\n",
       "      <td>2</td>\n",
       "    </tr>\n",
       "    <tr>\n",
       "      <th>5</th>\n",
       "      <td>2018-06-30</td>\n",
       "      <td>1.151900e+10</td>\n",
       "      <td>5.326500e+10</td>\n",
       "      <td>1.261200e+10</td>\n",
       "      <td>2.042100e+10</td>\n",
       "      <td>2018</td>\n",
       "      <td>2</td>\n",
       "    </tr>\n",
       "    <tr>\n",
       "      <th>6</th>\n",
       "      <td>2018-09-28</td>\n",
       "      <td>1.412500e+10</td>\n",
       "      <td>6.290000e+10</td>\n",
       "      <td>7.089800e+10</td>\n",
       "      <td>2.408400e+10</td>\n",
       "      <td>2018</td>\n",
       "      <td>3</td>\n",
       "    </tr>\n",
       "    <tr>\n",
       "      <th>7</th>\n",
       "      <td>2019-09-27</td>\n",
       "      <td>1.368600e+10</td>\n",
       "      <td>6.404000e+10</td>\n",
       "      <td>6.393000e+10</td>\n",
       "      <td>2.431300e+10</td>\n",
       "      <td>2019</td>\n",
       "      <td>3</td>\n",
       "    </tr>\n",
       "  </tbody>\n",
       "</table>\n",
       "</div>"
      ],
      "text/plain": [
       "         Date    Net Income     Net Sales  Operating Income        Profit  \\\n",
       "0  2018-12-29  1.996500e+10  8.431000e+10      2.334600e+10  3.203100e+10   \n",
       "1  2017-12-30  2.006500e+10  8.829300e+10      2.627400e+10  3.391200e+10   \n",
       "2  2019-03-30  1.156100e+10  5.801500e+10      1.341500e+10  2.182100e+10   \n",
       "3  2018-03-31  1.382200e+10  6.113700e+10      1.589400e+10  2.342200e+10   \n",
       "4  2019-06-29  1.004400e+10  5.380900e+10      1.154400e+10  2.022700e+10   \n",
       "5  2018-06-30  1.151900e+10  5.326500e+10      1.261200e+10  2.042100e+10   \n",
       "6  2018-09-28  1.412500e+10  6.290000e+10      7.089800e+10  2.408400e+10   \n",
       "7  2019-09-27  1.368600e+10  6.404000e+10      6.393000e+10  2.431300e+10   \n",
       "\n",
       "   Year  Quarter  \n",
       "0  2018        4  \n",
       "1  2017        4  \n",
       "2  2019        1  \n",
       "3  2018        1  \n",
       "4  2019        2  \n",
       "5  2018        2  \n",
       "6  2018        3  \n",
       "7  2019        3  "
      ]
     },
     "execution_count": 2,
     "metadata": {},
     "output_type": "execute_result"
    }
   ],
   "source": [
    "income = 'resources/is.csv'\n",
    "income_df = pd.read_csv(income)\n",
    "Quarter = income_df.iloc[:, -1] \n",
    "income_df"
   ]
  },
  {
   "cell_type": "code",
   "execution_count": 11,
   "metadata": {},
   "outputs": [
    {
     "data": {
      "text/plain": [
       "LinregressResult(slope=2509450000.0, intercept=8074750000.0, rvalue=0.7963721347293771, pvalue=0.018015840230079298, stderr=778043045.617229)"
      ]
     },
     "execution_count": 11,
     "metadata": {},
     "output_type": "execute_result"
    }
   ],
   "source": [
    "# Grab net income\n",
    "Net_Income = income_df.iloc[:, 1]\n",
    "ni_slope, ni_int, ni_r, ni_p, ni_std_err = stats.linregress(Quarter, Net_Income)\n",
    "ni_fit = ni_slope * Quarter + ni_int\n",
    "\n",
    "stats.linregress(Quarter, Net_Income)"
   ]
  },
  {
   "cell_type": "code",
   "execution_count": 12,
   "metadata": {},
   "outputs": [
    {
     "data": {
      "text/plain": [
       "LinregressResult(slope=9010950000.0, intercept=43193750000.0, rvalue=0.8081413243177749, pvalue=0.015212614683260597, stderr=2681109471.3756084)"
      ]
     },
     "execution_count": 12,
     "metadata": {},
     "output_type": "execute_result"
    }
   ],
   "source": [
    "# Grab net sales\n",
    "Net_Sales = income_df.iloc[:, 2]\n",
    "ns_slope, ns_int, ns_r, ns_p, ns_std_err = stats.linregress(Quarter, Net_Sales)\n",
    "ns_fit = ns_slope * Quarter + ns_int\n",
    "\n",
    "stats.linregress(Quarter, Net_Sales)"
   ]
  },
  {
   "cell_type": "code",
   "execution_count": 13,
   "metadata": {},
   "outputs": [
    {
     "data": {
      "text/plain": [
       "LinregressResult(slope=8580250000.0, intercept=8288500000.0, rvalue=0.4290922332343195, pvalue=0.28875284608779406, stderr=7373722138.162879)"
      ]
     },
     "execution_count": 13,
     "metadata": {},
     "output_type": "execute_result"
    }
   ],
   "source": [
    "# Grab operating income\n",
    "Operating_Income = income_df.iloc[:, 3]\n",
    "oi_slope, oi_int, oi_r, oi_p, oi_std_err = stats.linregress(Quarter, Operating_Income)\n",
    "oi_fit = oi_slope * Quarter + oi_int\n",
    "\n",
    "stats.linregress(Quarter, Operating_Income)"
   ]
  },
  {
   "cell_type": "code",
   "execution_count": 14,
   "metadata": {},
   "outputs": [
    {
     "data": {
      "text/plain": [
       "LinregressResult(slope=3492450000.0, intercept=16297750000.0, rvalue=0.8086889655270325, pvalue=0.015089356379427649, stderr=1037110447.7505437)"
      ]
     },
     "execution_count": 14,
     "metadata": {},
     "output_type": "execute_result"
    }
   ],
   "source": [
    "# Grab profit\n",
    "Profit = income_df.iloc[:, 4]\n",
    "pr_slope, pr_int, pr_r, pr_p, pr_std_err = stats.linregress(Quarter, Profit)\n",
    "pr_fit = pr_slope * Quarter + pr_int\n",
    "\n",
    "stats.linregress(Quarter, Profit)"
   ]
  },
  {
   "cell_type": "code",
   "execution_count": 38,
   "metadata": {},
   "outputs": [
    {
     "data": {
      "image/png": "[encoded data removed]",
      "text/plain": [
       "<Figure size 1080x720 with 4 Axes>"
      ]
     },
     "metadata": {
      "needs_background": "light"
     },
     "output_type": "display_data"
    }
   ],
   "source": [
    "# Plot\n",
    "fig, (ax1, ax2, ax3, ax4) = plt.subplots(4,sharex=True)\n",
    "fig.suptitle(\"Income Statements in Billions\", fontsize=16, fontweight=\"bold\")\n",
    "fig.set_size_inches(15, 10)\n",
    "ax1.set_xlim(0.8, 4.2)\n",
    "ax1.scatter(Quarter, Net_Income, linewidth=1, marker=\"o\")\n",
    "ax1.plot(Quarter, ni_fit, \"b--\", linewidth=1)\n",
    "ax1.set_ylabel(\"Net Income\")\n",
    "\n",
    "ax2.scatter(Quarter, Net_Sales, linewidth=1, marker=\"o\", color=\"r\")\n",
    "ax2.plot(Quarter, ns_fit, \"r--\", linewidth=1)\n",
    "ax2.set_ylabel(\"Net Sales\")\n",
    "\n",
    "ax3.scatter(Quarter, Operating_Income, linewidth=1, marker=\"o\", color=\"g\")\n",
    "ax3.plot(Quarter, oi_fit, \"g--\", linewidth=1)\n",
    "ax3.set_ylabel(\"Operating Income\")\n",
    "\n",
    "ax4.scatter(Quarter, Profit, linewidth=1, marker=\"o\", color=\"b\")\n",
    "ax4.plot(Quarter, pr_fit, \"b--\", linewidth=1)\n",
    "ax4.set_ylabel(\"Profit\")\n",
    "ax4.set_xlabel(\"Quarter\")\n",
    "\n",
    "plt.xticks(np.arange(1, 5, 1.0))\n",
    "plt.savefig(\"images/scatter.png\")"
   ]
  },
  {
   "cell_type": "code",
   "execution_count": 19,
   "metadata": {},
   "outputs": [
    {
     "data": {
      "text/plain": [
       "<Figure size 432x288 with 0 Axes>"
      ]
     },
     "metadata": {},
     "output_type": "display_data"
    }
   ],
   "source": []
  },
  {
   "cell_type": "code",
   "execution_count": 36,
   "metadata": {},
   "outputs": [
    {
     "data": {
      "image/png": "[encoded data removed]",
      "text/plain": [
       "<Figure size 432x288 with 1 Axes>"
      ]
     },
     "metadata": {
      "needs_background": "light"
     },
     "output_type": "display_data"
    }
   ],
   "source": [
    "#create a stacked bar graph\n",
    "labels = ['Net Income', 'Net Sales', 'Operating Income', 'Profit']\n",
    "x = np.arange(len(income_df))  # the label locations\n",
    "width = 0.1\n",
    "\n",
    "fig, ax = plt.subplots()\n",
    "rects1 = ax.bar(x - width/2, income_df['Net Income'], width, label='Net Income')\n",
    "rects2 = ax.bar(x + width/2, income_df['Net Sales'], width, label='Net Sales')\n",
    "rects3 = ax.bar(x - width*1.5, income_df['Operating Income'], width, label='Operating Income')\n",
    "rects4 = ax.bar(x + width*1.5, income_df['Profit'], width, label='Profit')\n",
    "\n",
    "\n",
    "# Add some text for labels, title and custom x-axis tick labels, etc.\n",
    "ax.set_ylabel('Amount in Billions')\n",
    "ax.set_xticks(x)\n",
    "ax.legend()\n",
    "\n",
    "plt.savefig(\"images/bars.png\")"
   ]
  },
  {
   "cell_type": "code",
   "execution_count": 37,
   "metadata": {},
   "outputs": [
    {
     "data": {
      "image/png": "[encoded data removed]",
      "text/plain": [
       "<Figure size 432x288 with 1 Axes>"
      ]
     },
     "metadata": {
      "needs_background": "light"
     },
     "output_type": "display_data"
    }
   ],
   "source": [
    "#create a stacked bar graph for net sales nad profit\n",
    "lab = ['Net Sales','Profit']\n",
    "x = np.arange(len(income_df))  # the label locations\n",
    "width = 0.1\n",
    "\n",
    "fig, ax = plt.subplots()\n",
    "rects5 = ax.bar(x+width/2, income_df['Net Sales'], width, label='Net Sales')\n",
    "rects6 = ax.bar(x+width/2, income_df['Profit'], width, label='Profit')\n",
    "\n",
    "\n",
    "# Add some text for labels, title and custom x-axis tick labels, etc.\n",
    "ax.set_ylabel('Amount in Billions')\n",
    "# ax.set_xticks(x)\n",
    "ax.legend()\n",
    "plt.savefig(\"images/bar.png\")"
   ]
  },
  {
   "cell_type": "code",
   "execution_count": null,
   "metadata": {},
   "outputs": [],
   "source": []
  }
 ],
 "metadata": {
  "kernelspec": {
   "display_name": "Python 3",
   "language": "python",
   "name": "python3"
  },
  "language_info": {
   "codemirror_mode": {
    "name": "ipython",
    "version": 3
   },
   "file_extension": ".py",
   "mimetype": "text/x-python",
   "name": "python",
   "nbconvert_exporter": "python",
   "pygments_lexer": "ipython3",
   "version": "3.7.3"
  }
 },
 "nbformat": 4,
 "nbformat_minor": 2
}
